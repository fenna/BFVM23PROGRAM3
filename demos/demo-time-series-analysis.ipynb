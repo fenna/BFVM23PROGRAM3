{
 "cells": [
  {
   "cell_type": "code",
   "execution_count": null,
   "id": "9ebf3353-1260-4914-b10d-6432e68e4678",
   "metadata": {},
   "outputs": [],
   "source": [
    "import pandas as pd\n",
    "import matplotlib.pyplot as plt\n",
    "import seaborn as sns\n",
    "import numpy as np\n",
    "import statsmodels"
   ]
  },
  {
   "cell_type": "markdown",
   "id": "eaad4211-7378-4f69-8bc8-b4b41851e46c",
   "metadata": {},
   "source": [
    "## 1. Getting to know the data"
   ]
  },
  {
   "cell_type": "code",
   "execution_count": null,
   "id": "99001523-1f8e-4964-ad36-41217d290bbf",
   "metadata": {},
   "outputs": [],
   "source": [
    "# Data from https://datahub.io/core/global-temp\n",
    "\n",
    "df = pd.read_csv('../data/monthly_csv.csv')\n",
    "df['Date'] = pd.to_datetime(df['Date'])\n",
    "df[df['Date'] < pd.to_datetime('1880-06-01')].head(10)"
   ]
  },
  {
   "cell_type": "code",
   "execution_count": null,
   "id": "0e03e6e7-a070-4a0d-9c5b-e89fd559bb70",
   "metadata": {},
   "outputs": [],
   "source": [
    "temps = df.pivot(index='Date', columns='Source', values='Mean')\n",
    "#temps.info()\n",
    "#temps.head()"
   ]
  },
  {
   "cell_type": "code",
   "execution_count": null,
   "id": "a21d8b33-b009-489a-9984-d75a5145bf83",
   "metadata": {},
   "outputs": [],
   "source": [
    "from numpy import polyfit\n",
    "\n",
    "def fit(X, y, degree=3):\n",
    "    coef = polyfit(X, y, degree)\n",
    "    trendpoly = np.poly1d(coef)\n",
    "    return trendpoly(X)\n",
    "\n",
    "def get_season(s, yearly_periods=4, degree=3):\n",
    "    X = [i%(365/4) for i in range(0, len(s))]\n",
    "    seasonal = fit(X, s.values, degree)\n",
    "    return pd.Series(data=seasonal, index=s.index)\n",
    "\n",
    "def get_trends(s, degree=3):\n",
    "    X = list(range(len(s)))\n",
    "    trend = fit(X, s.values, degree)\n",
    "    return pd.Series(data=trend, index=s.index)\n",
    "\n",
    "temps['trend'] = get_trends(temps['GCAG'])\n",
    "temps['season'] = get_season(temps['GCAG'] - temps['trend'])"
   ]
  },
  {
   "cell_type": "code",
   "execution_count": null,
   "id": "e6818601-93f8-445d-99fc-de6e3314b4fa",
   "metadata": {},
   "outputs": [],
   "source": [
    "fig,ax = plt.subplots(figsize=(12,6))\n",
    "sns.lineplot(data=temps[['GCAG','season','trend']])\n",
    "plt.show()"
   ]
  },
  {
   "cell_type": "markdown",
   "id": "ab81ebc6-5335-42d5-b2e9-33fe09506164",
   "metadata": {},
   "source": [
    "## 2. Autocorrelation\n",
    "Autocorrelation is the correlation of a signal with a lagged version of itself. The autocorrelation plot draws the autocorrelation as a funtion of lag; this can help find repeating patterns, and if often used in signal processing. "
   ]
  },
  {
   "cell_type": "code",
   "execution_count": null,
   "id": "09180025-45d7-4b02-8fe0-41f21c5bfd1b",
   "metadata": {},
   "outputs": [],
   "source": [
    "# from https://github.com/owid/owid-datasets/tree/master/datasets/Air%20pollution%20by%20city%20-%20Fouquet%20and%20DPCC%20(2011)\n",
    "pollution = pd.read_csv('../data/smoke_pollution.csv', skiprows=1, names=['City','Year','Smoke','SPM'])\n",
    "#pollution.head()\n"
   ]
  },
  {
   "cell_type": "code",
   "execution_count": null,
   "id": "c51efe11-dd3e-4965-922e-6435501825ce",
   "metadata": {},
   "outputs": [],
   "source": [
    "#let's only use the SPM for London for this example\n",
    "fig, ax = plt.subplots(figsize=(12,6))\n",
    "df = pollution[pollution['City'] == 'London']['SPM']\n",
    "pd.plotting.autocorrelation_plot(df)\n",
    "plt.show()"
   ]
  },
  {
   "cell_type": "markdown",
   "id": "cbdf6e00-5365-47dd-bc60-80bafcae9275",
   "metadata": {},
   "source": [
    "We can see high autocorrelations with a lag of only a few years. There is a negative autocorrelation at around hundred years, after which point the autocorrelation stays around zero. This plot clearly shows that air pollution is not a stationary process, since the autocorrelation is not flat. Let's use the [Dickey-Fuller test](https://en.wikipedia.org/wiki/Dickey%E2%80%93Fuller_test) to see this more statistically – for this we can use [`statsmodels.adfuller`](https://www.statsmodels.org/dev/generated/statsmodels.tsa.stattools.adfuller.html). Have a look at [this notebook](https://www.statsmodels.org/dev/examples/notebooks/generated/stationarity_detrending_adf_kpss.html) if you are unsure about the meaning of this metric."
   ]
  },
  {
   "cell_type": "code",
   "execution_count": null,
   "id": "ade0c10c-3409-48cc-a7f4-6b1b7cf0f534",
   "metadata": {},
   "outputs": [],
   "source": [
    "from statsmodels.tsa import stattools\n",
    "stattools.adfuller(df)"
   ]
  }
 ],
 "metadata": {
  "kernelspec": {
   "display_name": "Python 3 (ipykernel)",
   "language": "python",
   "name": "python3"
  },
  "language_info": {
   "codemirror_mode": {
    "name": "ipython",
    "version": 3
   },
   "file_extension": ".py",
   "mimetype": "text/x-python",
   "name": "python",
   "nbconvert_exporter": "python",
   "pygments_lexer": "ipython3",
   "version": "3.12.2"
  }
 },
 "nbformat": 4,
 "nbformat_minor": 5
}
