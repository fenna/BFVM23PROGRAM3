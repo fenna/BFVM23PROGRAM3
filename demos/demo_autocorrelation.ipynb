{
 "cells": [
  {
   "cell_type": "markdown",
   "id": "d81d1a8d-1292-4858-bde5-183cc6e3123d",
   "metadata": {},
   "source": [
    "# Autocorrelation"
   ]
  },
  {
   "cell_type": "code",
   "execution_count": null,
   "id": "5c3adce5-61b1-4c36-a54c-0549be0b8960",
   "metadata": {},
   "outputs": [],
   "source": [
    "import zipfile\n",
    "import pandas as pd\n",
    "import numpy as np\n",
    "from datetime import datetime\n",
    "\n",
    "# bokeh libraries\n",
    "import matplotlib.pyplot as plt\n",
    "import seaborn as sns\n",
    "\n",
    "#set rendering to notebook\n",
    "#output_notebook()\n",
    "\n",
    "from statsmodels.tsa.stattools import acf\n",
    "from statsmodels.graphics.tsaplots import plot_pacf\n",
    "from statsmodels.graphics.tsaplots import plot_acf"
   ]
  },
  {
   "cell_type": "markdown",
   "id": "cd34066e-6304-4493-9bea-8fbb1e4b7eb4",
   "metadata": {},
   "source": [
    "\n",
    "When we talk about autocorrelation, we are talking about the correlation of a time series with a lagged version of itself. In general, the formula for the autocorrelation at lag $k$ is\n",
    "\n",
    "$$\n",
    "r_k = \\frac{\\Sigma_{i=1}^{n-k}(X_i - \\bar{X})(X_{i+k} - \\bar{X})}{\\Sigma_{i=1}^{n}(X_i - \\bar{X})^2}\n",
    "$$"
   ]
  },
  {
   "cell_type": "markdown",
   "id": "91bac25c-7898-4938-98df-d6c5cdf06f4f",
   "metadata": {},
   "source": [
    "Suppose we have a *very small* timeseries, of only two values: $[3,2]$. Note that in this case $\\bar{X} = 5/2 = 2.5$, and that the variance (the denominator of the equation above) is $(3-2.5)^2 + (5-2.5)^2 = 0.5^2+(−0.5)^2=0.25+0.25=0.5$. \n",
    "\n",
    "The autocorrelation for lag 0 is always one, as a series correlates perfectly with itself:\n",
    "\n",
    "$$\n",
    "r_0 = \\frac{\\Sigma(X_i - \\bar{X})^2}{\\Sigma(X_i - \\bar{X})^2} = 1\n",
    "$$\n",
    "\n",
    "\n",
    "For lag 1, we take the first value again ($X_1=3$) and compare that with the second value ($X_2 = 2$):\n",
    "\n",
    "$$\n",
    "r_1 = \\frac{(3 - 2.5)(2 - 2.5)}{0.5} \n",
    "= \\frac{(0.5)(-0.5)}{0.5} = \\frac{0.25}{0.5} = -0.5\n",
    "$$\n",
    "\n",
    "There are no more lags, so this will be our whole autocorrelation. Let's see this in code – to get the numeral values we are using [`statsmodels.tsa.stattools.acf`](https://www.statsmodels.org/dev/generated/statsmodels.tsa.stattools.acf.html), which we already imported in the first cell. Later, we will just plot these values using [`statsmodels.graphics.tsaplots.plot_acf`](https://www.statsmodels.org/dev/generated/statsmodels.graphics.tsaplots.plot_acf.html) and [`statsmodels.graphics.tsaplots.plot_acf`](https://www.statsmodels.org/stable/generated/statsmodels.graphics.tsaplots.plot_pacf.html)."
   ]
  },
  {
   "cell_type": "code",
   "execution_count": null,
   "id": "f28fd5e4-abca-4c1b-9d48-011c83662328",
   "metadata": {},
   "outputs": [],
   "source": [
    "X = [3,2]\n",
    "acf(X)"
   ]
  },
  {
   "cell_type": "markdown",
   "id": "f003cfad-685b-4f58-9c21-920d1c6d988d",
   "metadata": {},
   "source": [
    "As you see, we were note lying when we stated that the results of this very small dataset would be $(1, -0.5)$. Now, let's see how this statistic is used in a more real-world scenario."
   ]
  },
  {
   "cell_type": "markdown",
   "id": "9f5d07cc-aab5-4418-81b7-ad20dcc545d1",
   "metadata": {},
   "source": [
    "## A more real-world scenario"
   ]
  },
  {
   "cell_type": "code",
   "execution_count": null,
   "id": "ac095ee2-c107-46e2-ba46-9ef9f21a4c93",
   "metadata": {},
   "outputs": [],
   "source": [
    "# Original data comes from the site below. You can download it there and put it in you data-directory. Or try \n",
    "# to load it in one flow, but odds are you'll get an SSL-error.\n",
    "#path = \"https://cdn.knmi.nl/knmi/map/page/klimatologie/gegevens/daggegevens/etmgeg_260.zip\"\n",
    "#df = pd.read_csv(path,compression='zip', skiprows=51, low_memory=False)\n",
    "\n",
    "df = pd.read_csv('../data/etmgeg_260.txt', skiprows=51, low_memory=False)\n",
    "df.columns = df.columns.str.strip()\n",
    "df.head()"
   ]
  },
  {
   "cell_type": "code",
   "execution_count": null,
   "id": "1a760263-5298-4fe9-b005-3f3a2085140b",
   "metadata": {},
   "outputs": [],
   "source": [
    "def preprocess(df):\n",
    "    \"\"\"\n",
    "    preprocess 'de bilt etmaalgegevens' for analysis\n",
    "    \n",
    "    parameters: raw dataframe\n",
    "    returns: cleaned dataframe\n",
    "    \n",
    "    \"\"\"\n",
    "    #FG = Etmaalgemiddelde windsnelheid (in 0.1 m/s) \n",
    "    #TG = Etmaalgemiddelde temperatuur (in 0.1 graden Celsius) \n",
    "    #YYYYMMDD = timestamp\n",
    "    \n",
    "    threshold_value = -6.5  \n",
    "\n",
    "    df = df.rename(columns={\"YYYYMMDD\": \"date\", \"TG\": \"temperature\", \"FG\": \"velocity\"}, \n",
    "              errors=\"raise\")\n",
    "    df = df[['date', 'temperature', 'velocity']]\n",
    "    df['date'] = pd.to_datetime(df['date'], format='%Y%m%d', errors='coerce')\n",
    "    df['temperature'] = df['temperature'].astype('float64')\n",
    "    df['velocity'] = pd.to_numeric(df['velocity'], errors='coerce')\n",
    "    df.temperature = df.temperature/10\n",
    "    df.velocity = df.velocity/10\n",
    "   \n",
    "    df.set_index('date', inplace=True)     \n",
    "    return df"
   ]
  },
  {
   "cell_type": "code",
   "execution_count": null,
   "id": "1ed0c866-b0f9-4623-8ef6-759859034321",
   "metadata": {},
   "outputs": [],
   "source": [
    "df = preprocess(df)\n",
    "plt.style.use('dark_background')\n",
    "subset = df['2020':'2024']\n"
   ]
  },
  {
   "cell_type": "code",
   "execution_count": null,
   "id": "52ab2488-6fac-4956-bfbb-353137be9f32",
   "metadata": {},
   "outputs": [],
   "source": [
    "# Plot the temperature data\n",
    "fig, ax = plt.subplots(figsize=(10, 5))\n",
    "subset['temperature'].plot(color='lightgrey', ax=ax)\n",
    "\n",
    "# Set title and labels\n",
    "ax.set_title(\"KNMI Data\")\n",
    "ax.set_xlabel('Date')\n",
    "ax.set_ylabel('Temperature (degrees C)')\n",
    "\n",
    "# Display the plot\n",
    "\n",
    "\n",
    "plt.show()"
   ]
  },
  {
   "cell_type": "code",
   "execution_count": null,
   "id": "61bb437b-438b-42de-bfdf-a854dcb86c50",
   "metadata": {},
   "outputs": [],
   "source": [
    "fig, ax = plt.subplots(figsize=(10, 5))\n",
    "plot_acf(subset['temperature'], ax=ax, lags=1500)\n",
    "plt.title('Autocorrelation of Temperature Data')\n",
    "plt.xlabel('Lag')\n",
    "plt.ylabel('Correlation')\n",
    "\n",
    "# Add a text annotation below the plot\n",
    "plt.text(-0.5, -1.4,\n",
    "         'Shaded area is 95% confidence interval, correlation values outside of this are significant',\n",
    "         wrap=False, fontsize=10, color='white')\n",
    "\n",
    "plt.savefig('autocorrelation_weather_largelag.png')\n",
    "plt.show()"
   ]
  },
  {
   "cell_type": "code",
   "execution_count": null,
   "id": "4cceee81-13ac-458d-8849-3fbb6e317140",
   "metadata": {},
   "outputs": [],
   "source": [
    "fig, ax = plt.subplots(figsize=(10, 5))\n",
    "plot_acf(subset['temperature'], ax=ax, lags=1500)"
   ]
  },
  {
   "cell_type": "code",
   "execution_count": null,
   "id": "a44be375-6b5c-4cbb-820b-56034a7c5c77",
   "metadata": {},
   "outputs": [],
   "source": [
    "fig, ax = plt.subplots(figsize=(10, 5))\n",
    "plot_acf(subset['temperature'], ax=ax, lags=100)\n",
    "plt.title('Autocorrelation of Temperature Data')\n",
    "plt.xlabel('Lag')\n",
    "plt.ylabel('Correlation')\n",
    "\n",
    "# Add a text annotation below the plot\n",
    "plt.text(-0.5, -1.4,\n",
    "         'Shaded area is 95% confidence interval, correlation values outside of this are significant',\n",
    "         wrap=False, fontsize=10, color='white')\n",
    "\n",
    "plt.savefig('autocorrelation_weather_shortlag.png')\n",
    "plt.show()"
   ]
  },
  {
   "cell_type": "code",
   "execution_count": null,
   "id": "28f20ae3-6676-4e38-b8b3-e0b90063071b",
   "metadata": {
    "scrolled": true
   },
   "outputs": [],
   "source": [
    "from statsmodels.graphics.tsaplots import plot_pacf\n",
    "fig, ax = plt.subplots(figsize=(10, 5))\n",
    "plot_pacf(subset['temperature'], ax=ax, lags=60)\n",
    "plt.title('Partial Autocorrelation of Temperature Data')\n",
    "plt.xlabel('Lag')\n",
    "plt.ylabel('Correlation')\n",
    "\n",
    "# Add a text annotation below the plot\n",
    "plt.text(-0.5, -1.4,\n",
    "         'Shaded area is 95% confidence interval, correlation values outside of this are significant',\n",
    "         wrap=False, fontsize=10, color='white')\n",
    "plt.savefig('partical_autocorrelation_weather_shortlag.png')\n",
    "plt.show()"
   ]
  },
  {
   "cell_type": "code",
   "execution_count": null,
   "id": "ca5cfb5d-6e18-4c0d-92e9-880fa2252e5b",
   "metadata": {},
   "outputs": [],
   "source": [
    "k = 20\n",
    "series = subset['temperature'].rolling(window=k).mean()\n",
    "series[k:]"
   ]
  },
  {
   "cell_type": "code",
   "execution_count": null,
   "id": "6e2b3abe-3670-4580-9494-6ea1b1cc0284",
   "metadata": {},
   "outputs": [],
   "source": [
    "fig, ax = plt.subplots(figsize=(10, 5))\n",
    "plot_acf(series[k:], ax=ax, lags=40)\n",
    "plt.title(f'Autocorrelation of Temperature Data with moving window {k}')\n",
    "plt.xlabel('Lag')\n",
    "plt.ylabel('Correlation')\n",
    "# Add a text annotation below the plot\n",
    "\n",
    "plt.text(-0.5, -1.4,\n",
    "         f'correlation values till lag {k} (moving window) are stronger',\n",
    "         wrap=False, fontsize=10, color='white')\n",
    "\n",
    "plt.savefig('autocorrelation_weather_shortlag_rolling40.png')\n",
    "plt.show()\n",
    "\n",
    "\n",
    "fig, ax = plt.subplots(figsize=(10, 5))\n",
    "plot_acf(subset['temperature'], ax=ax, lags=40)\n",
    "plt.title(f'Autocorrelation of Temperature Data')\n",
    "plt.xlabel('Lag')\n",
    "plt.ylabel('Correlation')\n",
    "\n",
    "plt.savefig('40autocorrelation_weather_shortlag40.png')\n",
    "\n",
    "plt.show()\n",
    "\n",
    "\n"
   ]
  },
  {
   "cell_type": "code",
   "execution_count": null,
   "id": "2bf245f0-91c3-4bc3-b25e-781d0a9f51d1",
   "metadata": {},
   "outputs": [],
   "source": [
    "import statsmodels.api as sm\n",
    "result = sm.tsa.seasonal_decompose(subset['temperature'], model='additive')\n"
   ]
  },
  {
   "cell_type": "code",
   "execution_count": null,
   "id": "058c6b4e-df16-4613-8efe-aaa97833e23e",
   "metadata": {},
   "outputs": [],
   "source": [
    "fig, ax = plt.subplots(figsize=(10, 5))\n",
    "plot_pacf(series[k:], ax=ax, lags=40)\n",
    "plt.title('Partical Autocorrelation of Temperature Data')\n",
    "plt.xlabel('Lag')\n",
    "plt.ylabel('Correlation')\n",
    "plt.savefig('autocorrelation_weather_shortlag40.png')\n",
    "# Add a text annotation below the plot\n",
    "\n",
    "plt.text(-0.5, -1.4,\n",
    "         f'correlation values outside shaded area are significant',\n",
    "         wrap=False, fontsize=10, color='white')\n",
    "\n",
    "plt.savefig('partical_autocorrelation_weather_shortlag_rolling.png')\n",
    "\n",
    "plt.show()"
   ]
  },
  {
   "cell_type": "markdown",
   "id": "14e6e8b9-1ec1-4040-9891-a5a4f1f2bf66",
   "metadata": {},
   "source": [
    "## Interpretation\n",
    "\n",
    "__Interpretation of an ACF-plot__\n",
    "\n",
    "- If there is strong positive autocorrelation at a given lag, it means that values at that point are strongly related to previous values.\n",
    "- A strong negative autocorrelation indicates that when one value is high, the next tends to be low.\n",
    "- A rapidly decreasing ACF indicates that the series has little memory, while a slowly decreasing ACF indicates long-term dependencies.\n",
    "\n",
    "__Interpretation of a PACF-plot__\n",
    "- A significant PACF at lag $k$ means that there is a direct relationship between $X_t$ and $X_{t−k}$, after correcting for previous lags.\n",
    "- If the PACF quickly goes to zero, this means that the time series can follow an autoregressive (AR) model."
   ]
  },
  {
   "cell_type": "markdown",
   "id": "17345f37-1fb6-4064-88ca-83165b31ba26",
   "metadata": {},
   "source": [
    "## One more example\n",
    "\n",
    "We use the generated ecg-signal from neurokit as one more example."
   ]
  },
  {
   "cell_type": "code",
   "execution_count": null,
   "id": "714c7fc1-cf8a-44d2-9aed-0c02686782d3",
   "metadata": {},
   "outputs": [],
   "source": [
    "import neurokit2 as nk\n",
    "import matplotlib.pyplot as plt\n",
    "\n",
    "# Set the parameters for simulating ECG data\n",
    "sampling_rate = 100  # Sampling rate in Hz\n",
    "duration = 10  # Duration of the signal in seconds\n",
    "\n",
    "# Simulate ECG data\n",
    "ecg_signal = nk.ecg_simulate(duration=duration, sampling_rate=sampling_rate)\n",
    "# Plot the synthetic ECG signal\n",
    "plt.figure(figsize=(10, 5))\n",
    "plt.plot(ecg_signal[:200])\n",
    "plt.title('ECG Signal (univariate)')\n",
    "plt.xlabel('time (ms)')\n",
    "plt.ylabel('Amplitude')\n",
    "#plt.savefig('ECG.png')\n",
    "plt.show()"
   ]
  },
  {
   "cell_type": "code",
   "execution_count": null,
   "id": "817a366d-24e6-4509-bf32-17f4abdefbc1",
   "metadata": {},
   "outputs": [],
   "source": [
    "fig, ax = plt.subplots(figsize=(10, 5))\n",
    "plot_acf(ecg_signal, ax=ax, lags=200)\n",
    "plt.title('Autocorrelation of ECG Data')\n",
    "plt.xlabel('Lag')\n",
    "plt.ylabel('Correlation')\n",
    "\n",
    "# Add a text annotation below the plot\n",
    "plt.text(-0.5, -1.4,\n",
    "         'Shaded area is 95% confidence interval, correlation values outside of this are significant',\n",
    "         wrap=False, fontsize=10, color='white')\n",
    "\n",
    "plt.savefig('autocorrelation_ecg_largelag.png')\n",
    "plt.show()"
   ]
  },
  {
   "cell_type": "code",
   "execution_count": null,
   "id": "e24833c3-d6b1-4362-89a6-15395993aed3",
   "metadata": {},
   "outputs": [],
   "source": [
    "fig, ax = plt.subplots(figsize=(10, 5))\n",
    "plot_pacf(ecg_signal, ax=ax, lags=200)\n",
    "plt.title('Partial Autocorrelation of ECG Data')\n",
    "plt.xlabel('Lag')\n",
    "plt.ylabel('Correlation')\n",
    "\n",
    "# Add a text annotation below the plot\n",
    "plt.text(-0.5, -1.4,\n",
    "         'Shaded area is 95% confidence interval, correlation values outside of this are significant',\n",
    "         wrap=False, fontsize=10, color='white')\n",
    "\n",
    "plt.savefig('partial_autocorrelation_ecg_largelag.png')\n",
    "plt.show()"
   ]
  },
  {
   "cell_type": "code",
   "execution_count": null,
   "id": "88636c40-a1d5-4b7b-aa80-bcd063303367",
   "metadata": {},
   "outputs": [],
   "source": []
  }
 ],
 "metadata": {
  "kernelspec": {
   "display_name": "Python 3 (ipykernel)",
   "language": "python",
   "name": "python3"
  },
  "language_info": {
   "codemirror_mode": {
    "name": "ipython",
    "version": 3
   },
   "file_extension": ".py",
   "mimetype": "text/x-python",
   "name": "python",
   "nbconvert_exporter": "python",
   "pygments_lexer": "ipython3",
   "version": "3.12.2"
  }
 },
 "nbformat": 4,
 "nbformat_minor": 5
}
