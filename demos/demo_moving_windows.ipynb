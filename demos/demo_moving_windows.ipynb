{
 "cells": [
  {
   "cell_type": "code",
   "execution_count": null,
   "metadata": {},
   "outputs": [],
   "source": [
    "import pandas as pd\n",
    "import numpy as np\n",
    "import matplotlib.pyplot as plt\n",
    "\n",
    "# Generate a hypothetical time series with noise\n",
    "np.random.seed(42)\n",
    "date_rng = pd.date_range(start='2023-01-01', end='2023-12-31', freq='D')\n",
    "original_data = np.random.randn(len(date_rng)) * 10 + 50\n",
    "\n",
    "# Introduce noise in the time series\n",
    "noise = np.random.normal(loc=0, scale=5, size=len(original_data))\n",
    "noisy_data = original_data + noise\n",
    "\n",
    "# Function to apply moving averages for smoothing\n",
    "def moving_average(data, window_size):\n",
    "    return data.rolling(window=window_size, min_periods=1).mean()\n",
    "\n",
    "# Define the window size for the moving average\n",
    "window_size = 7\n",
    "\n",
    "# Apply moving averages for smoothing\n",
    "smoothed_data = moving_average(pd.Series(noisy_data), window_size)\n",
    "\n",
    "# Plotting the results\n",
    "plt.figure(figsize=(12, 6))\n",
    "\n",
    "plt.plot(date_rng, noisy_data, label='Noisy Time Series', alpha=0.7, linestyle='-', marker='o')\n",
    "plt.plot(date_rng, smoothed_data, label=f'Smoothed (Moving Avg, {window_size} days)', color='red', linewidth=2)\n",
    "\n",
    "plt.title('Smoothing Time Series with Moving Averages')\n",
    "plt.xlabel('Date')\n",
    "plt.ylabel('Value')\n",
    "plt.legend()\n",
    "plt.grid(True)\n",
    "plt.savefig('moving average.png')\n",
    "plt.show()\n"
   ]
  }
 ],
 "metadata": {
  "kernelspec": {
   "display_name": "programming3",
   "language": "python",
   "name": "python3"
  },
  "language_info": {
   "codemirror_mode": {
    "name": "ipython",
    "version": 3
   },
   "file_extension": ".py",
   "mimetype": "text/x-python",
   "name": "python",
   "nbconvert_exporter": "python",
   "pygments_lexer": "ipython3",
   "version": "3.10.1"
  }
 },
 "nbformat": 4,
 "nbformat_minor": 2
}
