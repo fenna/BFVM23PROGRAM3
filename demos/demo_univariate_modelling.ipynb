{
 "cells": [
  {
   "cell_type": "markdown",
   "id": "b9432cd2-4d62-49ce-9e67-8903b671d4cf",
   "metadata": {},
   "source": [
    "Univariate time series data analysis is the most popular type of temporal data, where a single numeric observation is recorded sequentially over equal time periods. Only the variable observed and its relation to time is considered in this analysis.\n",
    "\n",
    "The forecasting of future values of this univariate data is done through univariate modeling. In this case, the predictions are dependent only on historical values. The forecasting can be done through various statistical methods. "
   ]
  },
  {
   "cell_type": "markdown",
   "id": "a599166c-9a8d-48ea-8d53-236427f53066",
   "metadata": {},
   "source": [
    "## Moving Average Forecast"
   ]
  },
  {
   "cell_type": "code",
   "execution_count": null,
   "id": "6941443e-1fb5-4f06-bc36-754caf0ae6d1",
   "metadata": {},
   "outputs": [],
   "source": [
    "import pandas as pd\n",
    "import matplotlib.pyplot as plt\n",
    "from datetime import datetime\n",
    "import numpy as np"
   ]
  },
  {
   "cell_type": "markdown",
   "id": "b3fd3a2c-d1ad-422c-886a-55f82f9bc57f",
   "metadata": {},
   "source": [
    "First, let's work trough a very simple example (from [the documentation of Pandas itself](https://pandas.pydata.org/pandas-docs/stable/reference/api/pandas.DataFrame.rolling.html))."
   ]
  },
  {
   "cell_type": "code",
   "execution_count": null,
   "id": "5eeab675-1bc2-4202-8e72-e9b3c326a298",
   "metadata": {},
   "outputs": [],
   "source": [
    "df = pd.DataFrame({'value': [0, 1, 2, 3, 4]})\n",
    "df.rolling(2)"
   ]
  },
  {
   "cell_type": "code",
   "execution_count": null,
   "id": "d2f49f4c-d1d6-4ef4-93f4-146448c10e58",
   "metadata": {},
   "outputs": [],
   "source": [
    "df.rolling(2).sum()"
   ]
  },
  {
   "cell_type": "markdown",
   "id": "1779033e-0d7c-45e6-9c2b-d69136ca5ab4",
   "metadata": {},
   "source": [
    "See what happens if we introduce a none-value"
   ]
  },
  {
   "cell_type": "code",
   "execution_count": null,
   "id": "b68d8261-bdc6-44f5-ade6-fda2bd3c4f81",
   "metadata": {},
   "outputs": [],
   "source": [
    "df = pd.DataFrame({'value': [0, 1, 2, np.nan, 4, np.nan, 7, 8, 9]})\n",
    "df.rolling(2).sum()"
   ]
  },
  {
   "cell_type": "markdown",
   "id": "8aa782f2-1c3c-43e8-a8f5-a2513d37131e",
   "metadata": {},
   "source": [
    "Now let's use some real data."
   ]
  },
  {
   "cell_type": "code",
   "execution_count": null,
   "id": "2b3a0787-be22-4480-9954-124acddc9f26",
   "metadata": {},
   "outputs": [],
   "source": [
    "df = pd.read_csv('../data/GDPUS.csv', header=0)\n",
    "df.head()"
   ]
  },
  {
   "cell_type": "code",
   "execution_count": null,
   "id": "3fd88c42-c26a-43f5-a75f-815e9dbbf758",
   "metadata": {},
   "outputs": [],
   "source": [
    "plt.plot(df.Year, df.GDP, label='GDP')\n",
    "plt.legend(loc='best')\n",
    "plt.show()"
   ]
  },
  {
   "cell_type": "code",
   "execution_count": null,
   "id": "aee879ae-2755-4caf-aa60-f9ce559316d0",
   "metadata": {},
   "outputs": [],
   "source": [
    "df_avg = df.copy()\n",
    "#calculating the rolling mean - with window 5\n",
    "df_avg['moving_avg_forecast'] = df['GDP'].rolling(5).mean()"
   ]
  },
  {
   "cell_type": "code",
   "execution_count": null,
   "id": "449c4ede-1c7f-4bb0-b8e3-fdf48471b197",
   "metadata": {},
   "outputs": [],
   "source": [
    "df_avg"
   ]
  },
  {
   "cell_type": "code",
   "execution_count": null,
   "id": "32707c25-a1d3-4aa8-86b2-d137296d5f65",
   "metadata": {},
   "outputs": [],
   "source": [
    "plt.plot(df['GDP'], label='GDP')\n",
    "plt.plot(df_avg['moving_avg_forecast'], label='GDP MA(5)')\n",
    "plt.legend(loc='best')\n",
    "plt.show()"
   ]
  },
  {
   "cell_type": "markdown",
   "id": "7ca569ae-c998-4ec5-8c46-d0b3ed083ac1",
   "metadata": {},
   "source": [
    "## Autoregressive model (AR)"
   ]
  },
  {
   "cell_type": "code",
   "execution_count": null,
   "id": "b3e3aee4-1f1a-4885-a9a8-c242abe71314",
   "metadata": {},
   "outputs": [],
   "source": [
    "import numpy as np\n",
    "import matplotlib.pyplot as plt\n",
    "from statsmodels.tsa.stattools import adfuller\n",
    "from statsmodels.tsa.ar_model import AutoReg\n",
    "from statsmodels.graphics.tsaplots import plot_pacf"
   ]
  },
  {
   "cell_type": "code",
   "execution_count": null,
   "id": "2acba002-3ff7-4840-b91c-2a3f50931a49",
   "metadata": {},
   "outputs": [],
   "source": [
    "df = pd.read_csv('../data/opsd_germany_daily.csv')\n",
    "df.head()"
   ]
  },
  {
   "cell_type": "markdown",
   "id": "b13d592f-86be-432d-92dc-670a321613c4",
   "metadata": {},
   "source": [
    "Note that the `Date` property is already in the ISO-8601 format, so we can just change the type of this column to `datetime`. Alternatively, we could have told Pandas that this column contains a date."
   ]
  },
  {
   "cell_type": "code",
   "execution_count": null,
   "id": "4fcf66b9-9b8c-4ffc-b0fa-5cceba967a6e",
   "metadata": {},
   "outputs": [],
   "source": [
    "df['Date'] = pd.to_datetime(df['Date'])\n",
    "df.info()\n",
    "\n",
    "# the alternative would have been as follows:\n",
    "#df = pd.read_csv('../data/opsd_germany_daily.csv', parse_dates=[0], date_format='ISO8601')\n",
    "#df.info()"
   ]
  },
  {
   "cell_type": "code",
   "execution_count": null,
   "id": "def727d3-7747-4a2b-8976-53413447f201",
   "metadata": {},
   "outputs": [],
   "source": [
    "import matplotlib.dates as mdates\n",
    "import datetime\n",
    "\n",
    "years = mdates.YearLocator()   # every year\n",
    "months = mdates.MonthLocator()  # every month\n",
    "yearsFmt = mdates.DateFormatter('%Y')\n",
    "\n",
    "fig, ax = plt.subplots()\n",
    "ax.plot(df['Date'], df['Consumption'])\n",
    "\n",
    "ax.xaxis.set_major_locator(years)\n",
    "ax.xaxis.set_major_formatter(yearsFmt)\n",
    "ax.xaxis.set_minor_locator(months)\n",
    "ax.tick_params(axis='x', labelrotation=90)\n",
    "\n",
    "datemin = datetime.date(df.Date.min().year, 1, 1)\n",
    "datemax = datetime.date(df.Date.max().year + 1, 1, 1)\n",
    "ax.set_xlim(datemin, datemax)\n",
    "ax.set_xlabel('Year')\n",
    "ax.set_ylabel('Consumption')"
   ]
  },
  {
   "cell_type": "markdown",
   "id": "a256af6d-4f8a-4787-96ff-05b8f1cd8a56",
   "metadata": {},
   "source": [
    "Create and train a model"
   ]
  },
  {
   "cell_type": "code",
   "execution_count": null,
   "id": "5f4ba112-29cb-4018-81af-b1807719e7a7",
   "metadata": {},
   "outputs": [],
   "source": [
    "train_df = df['Consumption'][:len(df)-100]\n",
    "test_df = df['Consumption'][len(df)-100:]\n",
    "test_yrs = df['Date'][len(df)-100:].astype(str)"
   ]
  },
  {
   "cell_type": "code",
   "execution_count": null,
   "id": "7d448546-2e25-412f-b3c0-236141b48cf0",
   "metadata": {},
   "outputs": [],
   "source": [
    "model = AutoReg(train_df, lags=8).fit()\n",
    "model.summary()\n"
   ]
  },
  {
   "cell_type": "code",
   "execution_count": null,
   "id": "b51621ba-49db-44ae-a308-b0acc2ea35cf",
   "metadata": {},
   "outputs": [],
   "source": [
    "test_df.head()"
   ]
  },
  {
   "cell_type": "code",
   "execution_count": null,
   "id": "647f2efb-6ea5-4975-8699-5d8e03045459",
   "metadata": {},
   "outputs": [],
   "source": [
    "preds = model.predict(start=len(train_df), end=(len(df)-1), dynamic=False)"
   ]
  },
  {
   "cell_type": "markdown",
   "id": "24e66458-8ac8-42f2-aa34-a0244073b5fc",
   "metadata": {},
   "source": [
    "We want to make one dataframe again, with the dates, the actual and the predicted values."
   ]
  },
  {
   "cell_type": "code",
   "execution_count": null,
   "id": "be7866a8-8ff9-4a55-b8f3-f8c1752b7dc8",
   "metadata": {},
   "outputs": [],
   "source": [
    "plot_df = pd.concat([test_yrs, test_df, preds], axis=1)\n",
    "plot_df.rename(columns={0:'Predicted'}, inplace=True)\n",
    "plot_df['Date'] = pd.to_datetime(plot_df['Date'])\n",
    "plot_df"
   ]
  },
  {
   "cell_type": "code",
   "execution_count": null,
   "id": "100327ef-f310-4e22-be59-9b26f436f9a9",
   "metadata": {},
   "outputs": [],
   "source": [
    "fig, ax = plt.subplots()\n",
    "\n",
    "ax.plot(plot_df['Date'], plot_df['Consumption'], label='Actual')\n",
    "ax.plot(plot_df['Date'], plot_df['Predicted'], label='Predicted')\n",
    "\n",
    "ax.xaxis.set_major_locator(years)\n",
    "ax.xaxis.set_major_formatter(yearsFmt)\n",
    "ax.xaxis.set_minor_locator(months)\n",
    "ax.tick_params(axis='x', labelrotation=90)\n",
    "\n",
    "# datemin = datetime.date(plot_df['Date'].min().year, 1, 1)\n",
    "# datemax = datetime.date(plot_df['Date'].max().year + 1, 1, 1)\n",
    "# ax.set_xlim(datemin, datemax)\n",
    "ax.set_xlabel('Year')\n",
    "ax.set_ylabel('Consumption')\n",
    "ax.legend()"
   ]
  }
 ],
 "metadata": {
  "kernelspec": {
   "display_name": "Python 3 (ipykernel)",
   "language": "python",
   "name": "python3"
  },
  "language_info": {
   "codemirror_mode": {
    "name": "ipython",
    "version": 3
   },
   "file_extension": ".py",
   "mimetype": "text/x-python",
   "name": "python",
   "nbconvert_exporter": "python",
   "pygments_lexer": "ipython3",
   "version": "3.12.2"
  }
 },
 "nbformat": 4,
 "nbformat_minor": 5
}
