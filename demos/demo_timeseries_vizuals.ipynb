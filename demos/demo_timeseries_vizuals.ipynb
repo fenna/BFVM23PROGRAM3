{
 "cells": [
  {
   "cell_type": "code",
   "execution_count": null,
   "id": "eeb7d742",
   "metadata": {},
   "outputs": [],
   "source": [
    "import zipfile\n",
    "import pandas as pd\n",
    "import numpy as np\n",
    "from datetime import datetime\n",
    "\n",
    "# bokeh libraries\n",
    "import matplotlib.pyplot as plt\n",
    "from bokeh.io import output_notebook, output_file\n",
    "from bokeh.layouts import column\n",
    "from bokeh.models import ColumnDataSource, RangeTool, Legend, HoverTool\n",
    "from bokeh.plotting import figure, show\n",
    "\n",
    "#set rendering to notebook\n",
    "output_notebook()\n",
    "\n",
    "#uncomment the following two lines if you get an SSL error when downloading the data\n",
    "#import ssl\n",
    "#ssl._create_default_https_context = ssl._create_unverified_context\n",
    "\n",
    "path = \"https://cdn.knmi.nl/knmi/map/page/klimatologie/gegevens/daggegevens/etmgeg_260.zip\"\n",
    "df = pd.read_csv(path,compression='zip', skiprows=51, low_memory=False)\n",
    "df.head()"
   ]
  },
  {
   "cell_type": "code",
   "execution_count": null,
   "id": "21e22241",
   "metadata": {},
   "outputs": [],
   "source": [
    "def preprocess(df):\n",
    "    \"\"\"\n",
    "    preprocess 'de bilt etmaalgegevens' for analysis\n",
    "    \n",
    "    parameters: raw dataframe\n",
    "    returns: cleaned dataframe\n",
    "    \n",
    "    \"\"\"\n",
    "    #FG = Etmaalgemiddelde windsnelheid (in 0.1 m/s) \n",
    "    #TG = Etmaalgemiddelde temperatuur (in 0.1 graden Celsius) \n",
    "    #YYYYMMDD = timestamp\n",
    "    \n",
    "    threshold_value = -6.5  \n",
    "\n",
    "    df = df.rename(columns={\"YYYYMMDD\": \"date\", \"   TG\": \"temperature\", \"   FG\": \"velocity\"}, \n",
    "              errors=\"raise\")\n",
    "    df = df[['date', 'temperature', 'velocity']]\n",
    "    df['date'] = pd.to_datetime(df['date'], format='%Y%m%d', errors='coerce')\n",
    "    df['temperature'] = df['temperature'].astype('float64')\n",
    "    df['velocity'] = pd.to_numeric(df['velocity'], errors='coerce')\n",
    "    df.temperature = df.temperature/10\n",
    "    df.velocity = df.velocity/10\n",
    "   \n",
    "    df.set_index('date', inplace=True)     \n",
    "    return df"
   ]
  },
  {
   "cell_type": "code",
   "execution_count": null,
   "id": "cee82dbd",
   "metadata": {},
   "outputs": [],
   "source": [
    "df = preprocess(df)"
   ]
  },
  {
   "cell_type": "code",
   "execution_count": null,
   "id": "73d6b3bc",
   "metadata": {},
   "outputs": [],
   "source": [
    "df.head()"
   ]
  },
  {
   "cell_type": "code",
   "execution_count": null,
   "id": "896ead5e",
   "metadata": {},
   "outputs": [],
   "source": [
    "print(plt.style.available)\n",
    "plt.style.use('dark_background')"
   ]
  },
  {
   "cell_type": "markdown",
   "id": "545aaee2",
   "metadata": {},
   "source": [
    "When you set the datetimestamp as index you can slice date series of interest"
   ]
  },
  {
   "cell_type": "code",
   "execution_count": null,
   "id": "4d27ae35",
   "metadata": {},
   "outputs": [],
   "source": [
    "subset = df['2000':'2024']\n",
    "subset"
   ]
  },
  {
   "cell_type": "code",
   "execution_count": null,
   "id": "c500dee0",
   "metadata": {},
   "outputs": [],
   "source": [
    "subset = df['2000-01-01':'2024-01-01']\n",
    "subset"
   ]
  },
  {
   "cell_type": "code",
   "execution_count": null,
   "id": "c97e0275",
   "metadata": {},
   "outputs": [],
   "source": [
    "df.velocity = df.velocity/10"
   ]
  },
  {
   "cell_type": "code",
   "execution_count": null,
   "id": "9856d720",
   "metadata": {},
   "outputs": [],
   "source": [
    "sub = df['2020-01-01':'2024-01-01']\n",
    "sub['temperature'].plot(color='lightgrey', figsize=(10, 5))\n",
    "plt.savefig('weather_raw.png')"
   ]
  },
  {
   "cell_type": "code",
   "execution_count": null,
   "id": "faa9574e",
   "metadata": {},
   "outputs": [],
   "source": [
    "ax = sub['temperature'].plot(color='lightgrey', figsize=(10, 5))\n",
    "# Add a vertical line\n",
    "ax.axvline('2022-01-01', color='green', linestyle='--', linewidth=4)\n",
    "# Add a horizontal line\n",
    "ax.axhline(-2.5, color='magenta', linestyle='--', linewidth=4)\n",
    "plt.savefig('weather_lines.png')"
   ]
  },
  {
   "cell_type": "code",
   "execution_count": null,
   "id": "38944bda",
   "metadata": {},
   "outputs": [],
   "source": [
    "ax = sub['temperature'].plot(color='lightgrey', figsize=(10, 5))\n",
    "# Add a vertical line\n",
    "ax.axvline('2022-01-01', color='green', linestyle='--')\n",
    "# Add a horizontal line\n",
    "ax.axhline(-6.5, color='magenta', linestyle='--')\n",
    "\n",
    "# Add a vertical green shaded region\n",
    "ax.axvspan('2021-07-01', '2022-07-01', color='green', alpha=0.5)\n",
    "\n",
    "# Add a horizontal magenta shaded region\n",
    "ax.axhspan(-5, -8, color='magenta', alpha=0.3)\n",
    "\n",
    "plt.savefig('weather_span.png')"
   ]
  },
  {
   "cell_type": "code",
   "execution_count": null,
   "id": "9d0638b3",
   "metadata": {},
   "outputs": [],
   "source": [
    "ax = sub['temperature'].plot(color='lightgrey', figsize=(10, 5))\n",
    "# Compute n days rolling mean\n",
    "rmw = sub.rolling(window=30).mean()\n",
    "\n",
    "# Compute n days rolling stdev\n",
    "rsw = sub.rolling(window=30).std()\n",
    "\n",
    "# Add the upper bound column rmw DataFrame\n",
    "rmw['upper'] = rmw['temperature'] + (rsw['temperature'] * 2)\n",
    "\n",
    "# Add the lower bound column rmw DataFrame\n",
    "rmw['lower'] = rmw['temperature'] - (rsw['temperature'] * 2)\n",
    "\n",
    "# Plot the content of the ma DataFrame\n",
    "ax = rmw[['temperature','upper', 'lower']].plot(linewidth=0.8, figsize=(10, 5))\n",
    "\n",
    "plt.savefig('weather_rolling.png')"
   ]
  },
  {
   "cell_type": "code",
   "execution_count": null,
   "id": "6a52d868",
   "metadata": {},
   "outputs": [],
   "source": [
    "#uncomment the following two lines if you get an error in the next cell\n",
    "#import bokeh\n",
    "#bokeh.sampledata.download()\n"
   ]
  },
  {
   "cell_type": "code",
   "execution_count": null,
   "id": "37610f43-a5f8-4d98-81bd-1089d36ea2f2",
   "metadata": {},
   "outputs": [],
   "source": [
    "from bokeh.models import DatetimeTickFormatter\n",
    "from bokeh.plotting import figure, show\n",
    "from bokeh.sampledata.glucose import data\n",
    "\n",
    "#reduce data size\n",
    "data = data.loc['2010-10-06':'2010-10-13'].reset_index()\n",
    "\n",
    "p = figure(x_axis_type=\"datetime\", background_fill_color='black')\n",
    "p.line(\"datetime\", \"glucose\", source=data, color=\"cyan\", legend_label=\"glucose\")\n",
    "\n",
    "p.title.text = \"Glucose Range\"\n",
    "p.xgrid.grid_line_color=None\n",
    "p.ygrid.grid_line_alpha=0.5\n",
    "p.xaxis.axis_label = 'Time'\n",
    "p.yaxis.axis_label = 'Value'\n",
    "p.legend.level = \"overlay\"\n",
    "p.legend.location = \"top_left\"\n",
    "\n",
    "# Formatting x-axis tick labels\n",
    "p.xaxis.formatter = DatetimeTickFormatter(days=\"%d %b %Y\")\n",
    "\n",
    "\n",
    "show(p)"
   ]
  }
 ],
 "metadata": {
  "kernelspec": {
   "display_name": "programming3",
   "language": "python",
   "name": "python3"
  },
  "language_info": {
   "codemirror_mode": {
    "name": "ipython",
    "version": 3
   },
   "file_extension": ".py",
   "mimetype": "text/x-python",
   "name": "python",
   "nbconvert_exporter": "python",
   "pygments_lexer": "ipython3",
   "version": "3.10.1"
  }
 },
 "nbformat": 4,
 "nbformat_minor": 5
}
