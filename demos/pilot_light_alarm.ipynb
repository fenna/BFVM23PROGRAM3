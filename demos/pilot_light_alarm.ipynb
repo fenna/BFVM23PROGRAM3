{
 "cells": [
  {
   "cell_type": "markdown",
   "id": "778e0435",
   "metadata": {},
   "source": [
    "Waakvlam analyse"
   ]
  },
  {
   "cell_type": "code",
   "execution_count": null,
   "id": "b0e361aa",
   "metadata": {},
   "outputs": [],
   "source": [
    "import zipfile\n",
    "import pandas as pd\n",
    "import numpy as np\n",
    "# bokeh libraries\n",
    "from bokeh.io import output_notebook, output_file\n",
    "from bokeh.layouts import column\n",
    "from bokeh.models import ColumnDataSource, RangeTool, Legend, HoverTool\n",
    "from bokeh.plotting import figure, show\n",
    "\n",
    "#set rendering to notebook\n",
    "output_notebook()\n",
    "\n",
    "#uncomment the following two lines if you get an SSL error when downloading the data\n",
    "import ssl\n",
    "ssl._create_default_https_context = ssl._create_unverified_context\n",
    "\n",
    "path = \"https://cdn.knmi.nl/knmi/map/page/klimatologie/gegevens/daggegevens/etmgeg_260.zip\"\n",
    "df = pd.read_csv(path,compression='zip', skiprows=51, low_memory=False)\n",
    "df.head()"
   ]
  },
  {
   "cell_type": "code",
   "execution_count": null,
   "id": "c5d906c3",
   "metadata": {},
   "outputs": [],
   "source": [
    "def preprocess(df):\n",
    "    \"\"\"\n",
    "    preprocess 'de bilt etmaalgegevens' for analysis\n",
    "    \n",
    "    parameters: raw dataframe\n",
    "    returns: cleaned dataframe\n",
    "    \n",
    "    \"\"\"\n",
    "    #FG = Etmaalgemiddelde windsnelheid (in 0.1 m/s) \n",
    "    #TG = Etmaalgemiddelde temperatuur (in 0.1 graden Celsius) \n",
    "    #YYYYMMDD = timestamp\n",
    "    \n",
    "    threshold_value = -6.5  \n",
    "\n",
    "    df = df.rename(columns={\"YYYYMMDD\": \"datum\", \"   TG\": \"etmaal_temperatuur\", \"   FG\": \"etmaal_windsnelheid\"}, \n",
    "              errors=\"raise\")\n",
    "    df = df[['datum', 'etmaal_temperatuur', 'etmaal_windsnelheid']]\n",
    "    df['datum'] = pd.to_datetime(df['datum'], format='%Y%m%d', errors='coerce')\n",
    "    df['etmaal_temperatuur'] = df['etmaal_temperatuur'].astype('float64')\n",
    "    df['etmaal_windsnelheid'] = pd.to_numeric(df['etmaal_windsnelheid'], errors='coerce')\n",
    "    df.etmaal_temperatuur = df.etmaal_temperatuur/10\n",
    "    df.etmaal_windsnelheid= df.etmaal_windsnelheid/10\n",
    "    df['effectief'] = df['etmaal_temperatuur'] - (df['etmaal_windsnelheid']/1.5)\n",
    "    df['waakvlam'] = df['effectief'] < threshold_value\n",
    "    df['alarmtemp'] = df['effectief'].apply(lambda x: x if x < threshold_value else None)\n",
    "\n",
    "    df_sorted = df.sort_values(by='datum')\n",
    "    \n",
    "    return df_sorted"
   ]
  },
  {
   "cell_type": "code",
   "execution_count": null,
   "id": "14ca0c33",
   "metadata": {},
   "outputs": [],
   "source": [
    "df = preprocess(df)\n",
    "display(df.head())\n",
    "print(df.shape)"
   ]
  },
  {
   "cell_type": "code",
   "execution_count": null,
   "id": "c71f347a",
   "metadata": {},
   "outputs": [],
   "source": [
    "df.alarmtemp.plot(kind='hist', bins=20)"
   ]
  },
  {
   "cell_type": "code",
   "execution_count": null,
   "id": "aabaf943",
   "metadata": {},
   "outputs": [],
   "source": [
    "df['jaar'] = df.datum.dt.year\n",
    "\n",
    "# Group by the 'year' column\n",
    "grouped_df = df.copy().groupby('jaar')\n",
    "\n",
    "\n",
    "# Now you can perform operations on each group\n",
    "# For example, to get the mean temperature for each year\n",
    "temperatures = grouped_df['waakvlam'].sum()"
   ]
  },
  {
   "cell_type": "code",
   "execution_count": null,
   "id": "51274e6c",
   "metadata": {},
   "outputs": [],
   "source": [
    "temperatures.tail(15)"
   ]
  },
  {
   "cell_type": "code",
   "execution_count": null,
   "id": "9f8d9464",
   "metadata": {},
   "outputs": [],
   "source": [
    "df[df.waakvlam==True].to_csv('tempdata.csv')\n",
    "df = df.set_index('datum')"
   ]
  },
  {
   "cell_type": "code",
   "execution_count": null,
   "id": "7904edcf",
   "metadata": {},
   "outputs": [],
   "source": [
    "# source: https://docs.bokeh.org/en/latest/docs/user_guide/topics/timeseries.html\n",
    "\n",
    "dates = np.array(df.index, dtype=np.datetime64)\n",
    "source = ColumnDataSource(data=dict(date=dates, eet=df['effectief'], alarm=df['alarmtemp']))\n",
    "\n",
    "p = figure(height=300, width=800, tools=\"xpan\", toolbar_location=None,\n",
    "           x_axis_type=\"datetime\", x_axis_location=\"above\",\n",
    "           background_fill_color=\"#efefef\", x_range=(dates[-2500], dates[-1]))\n",
    "\n",
    "p.circle('date', 'eet', source=source, color='blue', legend_label='effectieve etmaal temperatuur', alpha=0.5, size=1)\n",
    "p.circle('date', 'alarm', source=source, color='red', legend_label='onder -6.5', alpha=0.7, size=5)\n",
    "p.line('date', 'eet', source=source, color='lightgrey')\n",
    "p.yaxis.axis_label = 'temperatuur'\n",
    "\n",
    "select = figure(title=\"selectie van gewenste data range\",\n",
    "                height=130, width=800, y_range=p.y_range,\n",
    "                x_axis_type=\"datetime\", y_axis_type=None,\n",
    "                tools=\"\", toolbar_location=None, background_fill_color=\"#efefef\")\n",
    "\n",
    "range_tool = RangeTool(x_range=p.x_range)\n",
    "range_tool.overlay.fill_color = \"navy\"\n",
    "range_tool.overlay.fill_alpha = 0.2\n",
    "\n",
    "select.circle('date', 'eet', source=source, color='blue', alpha=0.3, size=1)\n",
    "select.circle('date', 'alarm', source=source, color = 'red', alpha=0.3, size=5)\n",
    "\n",
    "select.ygrid.grid_line_color = None\n",
    "select.add_tools(range_tool)\n",
    "\n",
    "# Add HoverTool\n",
    "hover = HoverTool(tooltips=[(\"Date\", \"@date{%F}\"), (\"EET\", \"@eet\")], formatters={\"@date\": \"datetime\"})\n",
    "p.add_tools(hover)\n",
    "\n",
    "p.add_layout(Legend(), 'right')\n",
    "\n",
    "output_file(\"waakvlam_alarm.html\")\n",
    "show(column(p, select))\n"
   ]
  },
  {
   "cell_type": "code",
   "execution_count": null,
   "id": "3e818ba3",
   "metadata": {},
   "outputs": [],
   "source": []
  }
 ],
 "metadata": {
  "kernelspec": {
   "display_name": "programming3",
   "language": "python",
   "name": "python3"
  },
  "language_info": {
   "codemirror_mode": {
    "name": "ipython",
    "version": 3
   },
   "file_extension": ".py",
   "mimetype": "text/x-python",
   "name": "python",
   "nbconvert_exporter": "python",
   "pygments_lexer": "ipython3",
   "version": "3.10.1"
  }
 },
 "nbformat": 4,
 "nbformat_minor": 5
}
