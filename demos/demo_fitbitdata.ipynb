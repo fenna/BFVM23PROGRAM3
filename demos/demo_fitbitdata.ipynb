{
 "cells": [
  {
   "cell_type": "markdown",
   "id": "5f9600af-8f89-4664-981d-b297041dc91e",
   "metadata": {},
   "source": [
    "\n",
    "---\n",
    "# datetime dtype demonstration\n",
    "\n",
    "author: F.Feenstra\n",
    "\n",
    "Many datasets involve time-based information. Time series analysis, trend identification, and understanding temporal relationships are crucial in various fields. Pandas datetime functionality plays a vital role in efficiently handling time related data. \n",
    "\n",
    "## Introduction to Pandas Datetime Dtype\n",
    "\n",
    "Pandas has the `datetime64` dtype, designed specifically for representing dates and times. This data type is not only efficient and flexible but also equipped with various methods that simplify working with datetime objects.\n",
    "\n",
    "\n",
    "## Changing Objects to Datetime Objects\n",
    "You can use the `pd.to_datetime()` method to change the datatype to a datetime data type. You need to specify the format for instance \n",
    "`pd.to_datetime(df['timestamp'], format=\"%m/%d/%Y\")`\n",
    "\n",
    "## About the data\n",
    "To demonstrate the datetime object dtype we will use totalsteps per day data from a fitbit. Each record has a timestamp. the data contains several subjects measured ('id'). We will visualize the difference in weekday and weekend day per subject id.\n",
    "\n",
    "---"
   ]
  },
  {
   "cell_type": "code",
   "execution_count": null,
   "id": "b8389582-cb52-475a-908f-13a5b242f250",
   "metadata": {},
   "outputs": [],
   "source": [
    "import pandas as pd\n",
    "import numpy as np\n",
    "import holoviews as hv\n",
    "import panel as pn\n",
    "hv.extension('bokeh')\n",
    "from bokeh.io import output_notebook\n",
    "output_notebook()\n",
    "\n",
    "#data source: https://www.kaggle.com/datasets/arashnic/fitbit\n",
    "df = pd.read_csv('../data/dailyActivity_merged.csv')\n",
    "display(df.info())\n",
    "display(df.head())"
   ]
  },
  {
   "cell_type": "markdown",
   "id": "b6e2479a-737e-4394-a9d8-271a6268e31e",
   "metadata": {},
   "source": [
    "---\n",
    "\n",
    "The ActivityDate is an object type, not an datetime type. This needs to be change. we can use `pd.to_datetime` with the format month, day, year seperated by a slash `/`\n",
    "\n",
    "---"
   ]
  },
  {
   "cell_type": "code",
   "execution_count": null,
   "id": "2d01b6d9-253f-4ec1-b495-2aff453612d5",
   "metadata": {
    "scrolled": true
   },
   "outputs": [],
   "source": [
    "df.ActivityDate = pd.to_datetime(df.ActivityDate, format=\"%m/%d/%Y\")\n",
    "df.head()"
   ]
  },
  {
   "cell_type": "markdown",
   "id": "ccf7bcdd-15b8-4b00-ba32-5aac1dbd6362",
   "metadata": {},
   "source": [
    "---\n",
    "Let's set the ActivityDate to datetime and inspect the attributes and methods of the datetime dtype\n",
    "\n"
   ]
  },
  {
   "cell_type": "code",
   "execution_count": null,
   "id": "82e36d4b-8aa6-4584-80bc-9a5762ebfdd1",
   "metadata": {},
   "outputs": [],
   "source": [
    "df.set_index('ActivityDate', inplace=True)\n",
    "#df.index?"
   ]
  },
  {
   "cell_type": "markdown",
   "id": "7aace8a4-9cd1-457f-a33b-c05e86d075c8",
   "metadata": {},
   "source": [
    "We can use attributes like month, year to extract the month and year information from the datetime object "
   ]
  },
  {
   "cell_type": "code",
   "execution_count": null,
   "id": "a45c48d7-3e8a-490e-b0ff-6262c7b16230",
   "metadata": {},
   "outputs": [],
   "source": [
    "print(f'this data set contains data of {len(set(df.index.month))} months; months {list(set(df.index.month))}')"
   ]
  },
  {
   "cell_type": "code",
   "execution_count": null,
   "id": "ff31df3f-c977-4db9-9bc5-fa54fbf048ed",
   "metadata": {},
   "outputs": [],
   "source": [
    "print(f'this data set contains data of {len(set(df.index.year))} years; years {list(set(df.index.year))}')"
   ]
  },
  {
   "cell_type": "code",
   "execution_count": null,
   "id": "1bb4e54b-bf54-418b-89d0-743b828df34a",
   "metadata": {},
   "outputs": [],
   "source": [
    "df.index.day_name()"
   ]
  },
  {
   "cell_type": "code",
   "execution_count": null,
   "id": "ee53e192-4a34-46c7-9f19-751defbf9b91",
   "metadata": {},
   "outputs": [],
   "source": [
    "# Create a new column 'day_of_week' with the name of the day\n",
    "df['day_of_week'] = df.index.day_name()\n",
    "\n",
    "# Group by the day_of_week and calculate the mean of 'TotalSteps'\n",
    "result = df.groupby('day_of_week')['TotalSteps'].mean()\n",
    "result"
   ]
  },
  {
   "cell_type": "markdown",
   "id": "41ef908d-932a-4747-8675-901ac571d8d9",
   "metadata": {},
   "source": [
    "---\n",
    "\n",
    "## Create a date range\n",
    "In pandas, `date_range` is a function used to generate a fixed frequency DatetimeIndex. This function is particularly useful when working with time series data or when you need to create a range of dates. The `date_range` function is part of the pandas library, and it allows you to create a sequence of dates at regular intervals.\n",
    "\n",
    "Here's a basic explanation of the `date_range` function:\n",
    "\n",
    "### Syntax:\n",
    "\n",
    "`pandas.date_range(start=None, end=None, periods=None, freq=None, tz=None, normalize=False, name=None, closed=None, **kwargs)`\n",
    "\n",
    "### Parameters:\n",
    "\n",
    "- **start**: The start date of the range.\n",
    "- **end**: The end date of the range.\n",
    "- **periods**: The number of periods (int), optional if `end` is specified.\n",
    "- **freq**: The frequency of the data, specified as a string or DateOffset object. This parameter defines the step size between each date.\n",
    "- **tz**: Time zone.\n",
    "- **normalize**: If True, normalize the start and end dates to midnight.\n",
    "- **name**: The name of the resulting DatetimeIndex.\n",
    "- **closed**: Specify which side of the interval is closed. The interval can be closed on the 'right', 'left', 'both', or 'neither'.\n",
    "\n",
    "The `freq` parameter in the `date_range` function of pandas specifies the frequency of the date range. It defines the step size between each date in the resulting DatetimeIndex. This parameter can be specified as a string or as a DateOffset object, and it plays a crucial role in determining how the date range is generated.\n",
    "\n",
    "Here are some common frequency strings that you can use with the `freq` parameter:\n",
    "\n",
    "- **'D'**: Calendar day frequency\n",
    "- **'B'**: Business day frequency\n",
    "- **'W'**: Weekly frequency\n",
    "- **'M'**: Month end frequency\n",
    "- **'Q'**: Quarter end frequency\n",
    "- **'A'**: Year end frequency\n",
    "- **'H'**: Hourly frequency\n",
    "- **'T'** or **'min'**: Minutely frequency\n",
    "- **'S'**: Secondly frequency\n",
    "\n",
    "You can also combine these basic frequencies with numbers to specify multiples. For example, '2D' represents a 2-day frequency, '3H' represents a 3-hourly frequency, and so on. `date_range_combined = pd.date_range(start='2022-01-01', periods=5, freq='2D3H')`\n",
    "\n",
    "\n",
    "We will use the `freq` parameter, to create a business days frequency series. Next we will use the `np.where` method to determine if a timestamp in the dataset is a weekday or a weekend day"
   ]
  },
  {
   "cell_type": "code",
   "execution_count": null,
   "id": "99072245-46d2-4925-8c2a-96cf7186901a",
   "metadata": {},
   "outputs": [],
   "source": [
    "# Generate a list of business days for two months of two months\n",
    "business_days = pd.date_range(df.index.min(), periods=62, freq='B')\n",
    "print(business_days[0:4])\n",
    "df['day_type'] = np.where(df.index.isin(business_days), 'business day', 'weekend')\n",
    "# Group by 'day_type' and calculate the mean of 'TotalSteps'\n",
    "result = df.groupby('day_type')['TotalSteps'].mean()\n",
    "result"
   ]
  },
  {
   "cell_type": "markdown",
   "id": "f76364d7-f1c0-4597-be86-a2bc91c9f4c8",
   "metadata": {},
   "source": [
    "Next we use the panel interact to select an id and display a boxplot of weekdays versus weekend days\n",
    "\n",
    "---"
   ]
  },
  {
   "cell_type": "code",
   "execution_count": null,
   "id": "10683e29-95f4-4d4d-8550-89cddd455806",
   "metadata": {},
   "outputs": [],
   "source": [
    "def create_boxplot(id_value):\n",
    "    selected_df = df[df['Id'] == id_value]\n",
    "    boxplot = hv.BoxWhisker(selected_df, kdims='day_type', vdims='TotalSteps')\n",
    "    return boxplot.opts(box_fill_color='day_type', cmap='Category10', box_line_color='black', width=400, height=300)\n",
    "\n",
    "unique_ids = df['Id'].unique()\n",
    "\n",
    "@pn.interact(ID=unique_ids)\n",
    "def interactive_boxplot(ID):\n",
    "    boxplot = create_boxplot(ID)\n",
    "    return boxplot\n",
    "\n",
    "pn.serve(interactive_boxplot)"
   ]
  }
 ],
 "metadata": {
  "kernelspec": {
   "display_name": "ds2023",
   "language": "python",
   "name": "ds2023"
  },
  "language_info": {
   "codemirror_mode": {
    "name": "ipython",
    "version": 3
   },
   "file_extension": ".py",
   "mimetype": "text/x-python",
   "name": "python",
   "nbconvert_exporter": "python",
   "pygments_lexer": "ipython3",
   "version": "3.10.4"
  }
 },
 "nbformat": 4,
 "nbformat_minor": 5
}
