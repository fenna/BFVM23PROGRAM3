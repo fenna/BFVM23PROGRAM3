{
 "cells": [
  {
   "cell_type": "markdown",
   "id": "6264e6ec",
   "metadata": {},
   "source": [
    "# Decomposition"
   ]
  },
  {
   "cell_type": "markdown",
   "id": "7b3a9ded",
   "metadata": {},
   "source": [
    "https://towardsdatascience.com/time-series-from-scratch-decomposing-time-series-data-7b7ad0c30fe7\n",
    "\n",
    "\n",
    "Time series data can exhibit a variety of patterns, and it is often helpful to split a time series into several components, each representing an underlying pattern category [1] .This is called decomposition. Time series can be decomposed in three key components:\n",
    "\n",
    "1. **Trend ($T_{t}$):** represents the trend component, which captures the long-term movement or overall direction of the time series\n",
    "\n",
    "3. **Seasonal ($S_{t}$):** Seasonality describes recurring patterns that take place within specific time intervals. For example, patterns may happen daily, weekly, monthly, or bi-annually. \n",
    "\n",
    "4. **Residu ($R_{t}$):** Random variations in the time series that cannot be explained by trend, or seasonality. Sometimes this is called **noise**.\n",
    "\n",
    "\n",
    "The `statsmodels.tsa.seasonal_decompose()` function in the statsmodels library is typically used for time series decomposition, which involves breaking down a time series into its individual components, such as trend, seasonality, and residuals\n",
    "\n"
   ]
  },
  {
   "cell_type": "code",
   "execution_count": null,
   "id": "17fcfe6e",
   "metadata": {},
   "outputs": [],
   "source": [
    "import numpy as np\n",
    "import pandas as pd\n",
    "import matplotlib.pyplot as plt\n",
    "\n",
    "# Terms to be added to single season for seasonality effect\n",
    "seasonal_adders = [11, 13, 12, 15, 19, 23, 21, 28, 20, 17, 15, 12]\n",
    "\n",
    "# Generate random noise\n",
    "np.random.seed(42)  # Set seed for reproducibility\n",
    "noise = np.random.normal(0, 5, 120)  \n",
    "\n",
    "# Imitate 10 (10 * 12 months) years of data\n",
    "x_range = np.arange(1, 121)\n",
    "\n",
    "time_series = []\n",
    "# Split into 10 chunks - 1 year each\n",
    "for chunk in np.split(x_range, 10):\n",
    "    for i, val in enumerate(chunk):\n",
    "        # Add value to seasonal scalar and add random noise\n",
    "        time_series.append(val + seasonal_adders[i] + noise[val - 1])\n",
    "\n",
    "# Convert to DataFrame\n",
    "df_aa = pd.DataFrame(\n",
    "    data={'y': time_series},\n",
    "    index=pd.date_range(start='2010-01-01', freq='MS', periods=120)\n",
    ")\n",
    "\n",
    "# Plot\n",
    "plt.style.use('dark_background')\n",
    "plt.title('Additive trend and Additive seasonality with noise', size=10)\n",
    "plt.plot(df_aa)\n",
    "plt.savefig('df_aa.png')\n",
    "plt.show()"
   ]
  },
  {
   "cell_type": "code",
   "execution_count": null,
   "id": "29b7cfcc",
   "metadata": {},
   "outputs": [],
   "source": [
    "import numpy as np\n",
    "import pandas as pd\n",
    "import matplotlib.pyplot as plt\n",
    "\n",
    "# Single season multiplier factors - for seasonality effect\n",
    "seasonal_multipliers = [1.1, 1.3, 1.2, 1.5, 1.9, 2.3, 2.1, 2.8, 2.0, 1.7, 1.5, 1.2]\n",
    "\n",
    "# Generate random noise\n",
    "np.random.seed(42)  # Set seed for reproducibility\n",
    "noise = np.random.normal(0, 0.1, 120)  # Adjust the scale (0.1 in this case) as needed\n",
    "\n",
    "# Imitate 10 years of data\n",
    "xs = np.arange(1, 121)\n",
    "\n",
    "time_series = []\n",
    "# Split into 10 chunks - 1 year each\n",
    "for chunk in np.split(xs, 10):\n",
    "    for i, val in enumerate(chunk):\n",
    "        # Multiply value with seasonal scalar and add random noise\n",
    "        time_series.append(val * seasonal_multipliers[i] * (1 + noise[val - 1]))\n",
    "\n",
    "# Convert to DataFrame\n",
    "df_am = pd.DataFrame(\n",
    "    data={'y': time_series},\n",
    "    index=pd.date_range(start='2010-01-01', freq='MS', periods=120)\n",
    ")\n",
    "\n",
    "# Plot\n",
    "plt.style.use('dark_background')\n",
    "plt.title('Additive trend and Multiplicative seasonality with noise', size=10)\n",
    "plt.plot(df_am)\n",
    "plt.savefig('df_am.png')\n",
    "plt.show()"
   ]
  },
  {
   "cell_type": "code",
   "execution_count": null,
   "id": "8cb8a731",
   "metadata": {},
   "outputs": [],
   "source": [
    "# Single season multiplier factors - for seasonality effect\n",
    "seasonal_multipliers = [1.1, 1.3, 1.2, 1.5, 1.9, 2.3, 2.1, 2.8, 2.0, 1.7, 1.5, 1.2]\n",
    "# Immitate 10 years of data\n",
    "xs = np.arange(1, 121)\n",
    "\n",
    "time_series = []\n",
    "# Split to 10 chunks - 1 year each\n",
    "for chunk in np.split(xs, 10):\n",
    "    for i, val in enumerate(chunk):\n",
    "        # Multiply value with seasonal scalar\n",
    "        time_series.append(val * seasonal_multipliers[i])\n",
    "        \n",
    "# Convert to DataFrame\n",
    "df_am = pd.DataFrame(\n",
    "    data={'y': time_series}, \n",
    "    index=pd.date_range(start='2010-01-01', freq='MS', periods=120)\n",
    ")\n",
    "\n",
    "# Plot\n",
    "plt.style.use('dark_background')\n",
    "plt.title('Additive trend and Multiplicative seasonality time series', size=10)\n",
    "plt.plot(df_am)\n",
    "plt.savefig('Multiplicative_plot.png')"
   ]
  },
  {
   "cell_type": "markdown",
   "id": "fa3d23eb",
   "metadata": {},
   "source": [
    "Additive trend and multiplicative seasonality\n",
    "Additive trend means the trend is linear (straight line), and multiplicative seasonality means there are changes to widths or heights of seasonal periods over time."
   ]
  },
  {
   "cell_type": "markdown",
   "id": "dac083dc",
   "metadata": {},
   "source": [
    "Dataset\n",
    "\n",
    "K, ANKITHA; D H, MANJAIAH ; M, Kartik (2020), “Data for: Clinical Mastitis in Cows based on Udder Parameter using Internet of Things (IoT)”, Mendeley Data, V2, doi: 10.17632/kbvcdw5b4m.2"
   ]
  },
  {
   "cell_type": "code",
   "execution_count": null,
   "id": "1d861cd6",
   "metadata": {},
   "outputs": [],
   "source": [
    "import statsmodels.api as sm\n",
    "import pandas as pd\n",
    "import matplotlib.pyplot as plt"
   ]
  },
  {
   "cell_type": "code",
   "execution_count": null,
   "id": "88e6d532",
   "metadata": {
    "scrolled": true
   },
   "outputs": [],
   "source": [
    "\n",
    "result = sm.tsa.seasonal_decompose(df_aa, model='additive')\n",
    "plt.style.use('dark_background')\n",
    "# Plot the original time series\n",
    "plt.figure(figsize=(8, 8))\n",
    "plt.subplot(411)\n",
    "plt.plot(df_aa, label='Original')\n",
    "plt.legend()\n",
    "\n",
    "# Plot the trend component\n",
    "plt.subplot(412)\n",
    "plt.plot(result.trend, label='Trend', color = 'magenta', alpha = 0.8)\n",
    "plt.legend()\n",
    "\n",
    "# Plot the seasonal component\n",
    "plt.subplot(413)\n",
    "plt.plot(result.seasonal, label='Seasonal', color = 'lime', alpha = 0.6)\n",
    "plt.legend()\n",
    "\n",
    "# Plot the residual component\n",
    "plt.subplot(414)\n",
    "plt.plot(result.resid, label='Residual', color = 'yellow', alpha = 0.5)\n",
    "plt.legend()\n",
    "\n",
    "plt.tight_layout()\n",
    "plt.savefig('seasonal_decomposition_plot.png')\n",
    "plt.show()"
   ]
  },
  {
   "cell_type": "markdown",
   "id": "19bf919e",
   "metadata": {},
   "source": [
    "In an additive model, a time series can be expressed as:\n",
    "\n",
    "$$y_{t} = T_{t}  + S_{t} + R_{t}$$\n",
    " \n",
    "where $y_{t}$ is the data at time $t$\n",
    "\n",
    "The additive model represents the time series as the sum of its individual components: trend, seasonal, and noise (residual). By adding these components together, you can reconstruct the original time series data.\n",
    "\n",
    "This model is necessary for time series data where the seasonal fluctuations are consistent in their amplitude across the entire time series. It’s a good option when seasonal patterns indicate a constant degree of variation compared to the overall data level.[3]\n",
    "\n",
    "\n",
    "While in a multiplicative model, it takes the form:\n",
    "\n",
    "$$y_{t} = T_{t} \\times S_{t} \\times R_{t}$$\n",
    "\n",
    "\n",
    "The choice between additive and multiplicative decomposition depends on the nature of the time series data. Some time series show a constant level (the average value of the time series over time) of seasonality and variability across different levels, making an additive model suitable. Others may show a proportional relationship, with the amplitude of the seasonal component increasing or decreasing with the level of the time series, making a multiplicative model more appropriate. \n",
    "\n",
    "\n",
    "The decision is often based on visual inspection of the time series plot and analysis of the variance of the data at different levels. \n",
    "\n",
    "\n",
    "1. Hyndman, R.J., & Athanasopoulos, G. (2018) Forecasting: principles and practice, 2nd edition, OTexts: Melbourne, Australia. OTexts.com/fpp2. Accessed on 27-01-2024\n",
    "\n",
    "2. https://en.wikipedia.org/wiki/Decomposition_of_time_series Accessed on 27-01-2024\n",
    "\n",
    "3. https://www.influxdata.com/blog/time-series-decomposition/ Accessed on 27-01-2024\n"
   ]
  }
 ],
 "metadata": {
  "kernelspec": {
   "display_name": "programming3",
   "language": "python",
   "name": "python3"
  },
  "language_info": {
   "codemirror_mode": {
    "name": "ipython",
    "version": 3
   },
   "file_extension": ".py",
   "mimetype": "text/x-python",
   "name": "python",
   "nbconvert_exporter": "python",
   "pygments_lexer": "ipython3",
   "version": "3.10.1"
  }
 },
 "nbformat": 4,
 "nbformat_minor": 5
}
