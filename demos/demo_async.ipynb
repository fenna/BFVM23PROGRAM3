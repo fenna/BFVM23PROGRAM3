{
 "cells": [
  {
   "cell_type": "markdown",
   "metadata": {},
   "source": [
    "# 1. functions as parameters\n",
    "\n",
    "In Python, you can use a function wherever you are expecting a value. So e.g. as value of parameters in a function call. In the example below you see the 'strange' `lambda`-syntax (which Guido van Rossum actually [didn't want to have in Python](https://developers.slashdot.org/story/13/08/25/2115204/interviews-guido-van-rossum-answers-your-questions))."
   ]
  },
  {
   "cell_type": "code",
   "execution_count": 32,
   "metadata": {},
   "outputs": [
    {
     "name": "stdout",
     "output_type": "stream",
     "text": [
      "[4, 9, 25, 49, 121, 169]\n",
      "[8, 27, 125, 343, 1331, 2197]\n"
     ]
    }
   ],
   "source": [
    "def demo_functions_parameters(vals, cb):\n",
    "    return [cb(x) for x in vals]\n",
    "\n",
    "l = [2,3,5,7,11,13]\n",
    "print(demo_functions_parameters(l, lambda x: x**2)) #anonymous function\n",
    "print(demo_functions_parameters(l, lambda x: x**3))"
   ]
  },
  {
   "cell_type": "code",
   "execution_count": null,
   "metadata": {},
   "outputs": [],
   "source": [
    "def square(v):\n",
    "    return v*v\n",
    "\n",
    "print(demo_functions_parameters(l, square)) #anonymous function\n"
   ]
  },
  {
   "cell_type": "markdown",
   "metadata": {},
   "source": [
    "You can also create a function that returns a function, so that you actually don't need a `lamdba`-syntax:"
   ]
  },
  {
   "cell_type": "code",
   "execution_count": null,
   "metadata": {},
   "outputs": [],
   "source": [
    "def make_adder(n):\n",
    "    def adder(x):\n",
    "        return x+n\n",
    "    \n",
    "    return adder\n",
    "\n",
    "a = make_adder(4)\n",
    "print (a(5))"
   ]
  },
  {
   "cell_type": "code",
   "execution_count": null,
   "metadata": {},
   "outputs": [],
   "source": [
    "import math\n",
    "\n",
    "def demo_function(x):\n",
    "    return math.sqrt(x)\n",
    "\n",
    "print(demo_functions_parameters(l, demo_function))"
   ]
  },
  {
   "cell_type": "markdown",
   "metadata": {},
   "source": [
    "## 2. Generators\n",
    "\n",
    "Generators in Python are functions that produce a sequence of values lazily, allowing for efficient memory usage and on-the-fly generation of values. The interesting thing about generators is that they can exit while keeping their state..."
   ]
  },
  {
   "cell_type": "code",
   "execution_count": 33,
   "metadata": {},
   "outputs": [
    {
     "name": "stdout",
     "output_type": "stream",
     "text": [
      "<class 'generator'>\n",
      "User with id 1\n",
      "User with id 2\n",
      "User with id 3\n",
      "User with id 4\n",
      "User with id 5\n",
      "User with id 6\n",
      "User with id 7\n",
      "User with id 8\n",
      "User with id 9\n",
      "User with id 10\n"
     ]
    }
   ],
   "source": [
    "def get_id():\n",
    "    ctr = 1\n",
    "    while True:\n",
    "        yield ctr\n",
    "        ctr += 1\n",
    "\n",
    "id_generator = get_id()\n",
    "print (type(id_generator))\n",
    "for i in range(10):\n",
    "    id = next(id_generator)\n",
    "    print(f'User with id {id}')"
   ]
  },
  {
   "cell_type": "code",
   "execution_count": 34,
   "metadata": {},
   "outputs": [
    {
     "data": {
      "text/plain": [
       "11"
      ]
     },
     "execution_count": 34,
     "metadata": {},
     "output_type": "execute_result"
    }
   ],
   "source": [
    "next(id_generator)"
   ]
  },
  {
   "cell_type": "markdown",
   "metadata": {},
   "source": [
    "# 3. asyncio"
   ]
  },
  {
   "cell_type": "markdown",
   "metadata": {},
   "source": [
    "`asyncio` is a library to write concurrent code using the async/await syntax. It is used as a foundation for multiple Python asynchronous frameworks that provide high-performance network and web-servers, database connection libraries, distributed task queues, etc.\n",
    "\n",
    "When running asyncio code in a Jupyter notebook or any other interactive environment, you might need to use `asyncio.run()` within an asynchronous function due to how event loops work in such environments."
   ]
  },
  {
   "cell_type": "code",
   "execution_count": 35,
   "metadata": {},
   "outputs": [
    {
     "name": "stdout",
     "output_type": "stream",
     "text": [
      "Hello\n",
      "One\n",
      "Two\n",
      "World! 👋\n",
      "Three\n"
     ]
    }
   ],
   "source": [
    "import asyncio\n",
    "\n",
    "async def f_one():\n",
    "    print(\"Hello\")\n",
    "    await asyncio.sleep(1)\n",
    "    print(\"World! 👋\")\n",
    "\n",
    "async def f_two():\n",
    "    print(\"One\")\n",
    "    await asyncio.sleep(0.5)\n",
    "    print(\"Two\")\n",
    "    await asyncio.sleep(0.5)\n",
    "    print(\"Three\")\n",
    "\n",
    "async def main():\n",
    "    await asyncio.gather(f_one(), f_two())\n",
    "\n",
    "async def run_main():\n",
    "    await main()\n",
    "\n",
    "await run_main()\n"
   ]
  },
  {
   "cell_type": "markdown",
   "metadata": {},
   "source": [
    "# 4. Event driven programming\n",
    "\n",
    "In Python, while there's no built-in concept of events like in JavaScript, you can implement a similar pattern using classes and callbacks. You can create your own event system by defining a class to represent an event and allowing other parts of your code to subscribe to or listen for these events."
   ]
  },
  {
   "cell_type": "code",
   "execution_count": 38,
   "metadata": {},
   "outputs": [
    {
     "name": "stdout",
     "output_type": "stream",
     "text": [
      "Event fired with data: Demonstration data\n"
     ]
    }
   ],
   "source": [
    "class Event:\n",
    "    def __init__(self):\n",
    "        self.handlers = []\n",
    "\n",
    "    def add_handler(self, handler):\n",
    "        self.handlers.append(handler)\n",
    "\n",
    "    def remove_handler(self, handler):\n",
    "        self.handlers.remove(handler)\n",
    "\n",
    "    def fire(self, *args, **kwargs):\n",
    "        for handler in self.handlers:\n",
    "            handler(*args, **kwargs)\n",
    "\n",
    "# event listeners\n",
    "def on_event_fired(data):\n",
    "    print(f\"Event fired with data: {data}\")\n",
    "custom_event = Event()\n",
    "custom_event.add_handler(on_event_fired)\n",
    "custom_event.fire(\"Demonstration data\")\n",
    "\n",
    "custom_event.remove_handler(on_event_fired)\n"
   ]
  },
  {
   "cell_type": "markdown",
   "metadata": {},
   "source": [
    "# 5. Multithreading\n",
    "\n",
    "Multithreading is a programming technique that allows multiple threads to execute concurrently within a single process, enabling applications to perform multiple tasks simultaneously and improve responsiveness by utilizing the available CPU resources more efficiently."
   ]
  },
  {
   "cell_type": "code",
   "execution_count": 40,
   "metadata": {},
   "outputs": [
    {
     "name": "stdout",
     "output_type": "stream",
     "text": [
      "0\n",
      "a\n",
      "This line is executed while the threads keep running...\n",
      "1b\n",
      "\n",
      "c\n",
      "2\n",
      "d3\n",
      "\n",
      "e\n",
      "4\n",
      "all threads are finished\n"
     ]
    }
   ],
   "source": [
    "import threading\n",
    "import time\n",
    "\n",
    "def print_numbers():\n",
    "    for i in range(5):\n",
    "        print(i)\n",
    "        time.sleep(1)\n",
    "\n",
    "def print_letters():\n",
    "    for letter in 'abcde':\n",
    "        print(letter)\n",
    "        time.sleep(1)\n",
    "\n",
    "# Create two threads\n",
    "thread1 = threading.Thread(target=print_numbers)\n",
    "thread2 = threading.Thread(target=print_letters)\n",
    "\n",
    "# Start the threads\n",
    "thread1.start()\n",
    "thread2.start()\n",
    "print('This line is executed while the threads keep running...')\n",
    "\n",
    "# Wait for both threads to finish\n",
    "thread1.join()\n",
    "thread2.join()\n",
    "print('all threads are finished')\n",
    "\n"
   ]
  }
 ],
 "metadata": {
  "kernelspec": {
   "display_name": "programming3",
   "language": "python",
   "name": "python3"
  },
  "language_info": {
   "codemirror_mode": {
    "name": "ipython",
    "version": 3
   },
   "file_extension": ".py",
   "mimetype": "text/x-python",
   "name": "python",
   "nbconvert_exporter": "python",
   "pygments_lexer": "ipython3",
   "version": "3.10.1"
  }
 },
 "nbformat": 4,
 "nbformat_minor": 2
}
