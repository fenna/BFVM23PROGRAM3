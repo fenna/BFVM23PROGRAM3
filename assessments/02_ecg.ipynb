{
 "cells": [
  {
   "cell_type": "markdown",
   "metadata": {},
   "source": [
    "# Time series: ECG study case \n",
    "\n",
    "author: F. Feenstra, B. Barnard\n",
    "\n",
    "Over the next two weeks, we will study time series using ECG data. Throughout this period, you will acquire a deeper understanding of extracting features from ECG data and you will learn how to do analyses on streaming data. Embracing the principle of rapid prototyping, our focus will be on developing a functional solution, allowing us to iterate and evolve our approach over the course of these two weeks. \n"
   ]
  },
  {
   "cell_type": "markdown",
   "metadata": {},
   "source": [
    "## About the data\n",
    "\n",
    "The data we will work with is ECG data. ECG stands for Electrocardiogram: a medical test that measures the electrical activity of the heart over a period of time. The ECG records the electrical signals that trigger each heartbeat and displays them as a graph or series of waves. The data is offered by a simulator producing electrocardiogram waves that you need to access via a web socket.\n",
    "\n",
    "Metadata description\n",
    "- Deltatime since start of measurement \n",
    "- ECG signal raw \n",
    "- ECG signal filtered\n",
    "\n",
    "The raw ECG signals are rather noisy and contain both high and low-frequency noise components. The filtered data is filtered by some often used signal filters. For more details see [Lugovaya, 2005](https://www.physionet.org/physiobank/database/ecgiddb/biometric.shtml).\n"
   ]
  },
  {
   "cell_type": "markdown",
   "metadata": {},
   "source": [
    "We are working with websockets. Have a look at [the remote data demo notebook](../demos/demo_remote_data.ipynb) (the second option) to see how to work with websockets in Python."
   ]
  },
  {
   "cell_type": "markdown",
   "metadata": {},
   "source": [
    "## Learning objectives\n",
    "\n",
    "- Develop a software framework for streaming data\n",
    "- Visualize streaming data\n",
    "- Detect change in time series to derive features\n",
    "- Detect relations in multivariate time series\n",
    "\n",
    "## Instructions\n",
    "-\tIn the first week (week 3) read and conduct part 1. Enhance and expand your solution when needed, but make sure you keep a balance between essential analysis and nice to haves. Be prepared to discuss and demonstrate the solution next week's first session.\n",
    "-\tIn the second week (week 4) read part 2 and conduct the feature engingeering and analysis according these instructions. Enhance and expand your work when needed, but make sure you keep a balance between essential analysis and nice to haves. Be prepared to discuss and demonstrate the solution in the third week's first session.\n",
    "-\tUpload the solution of this study case in a repository and submit the link to the blackboard assignment. Make sure that your repository is private and invite your teachers and tutors. Please submit your work (even unfinished) before the deadline to receive feedback. __Do not add data to your repository.__\n",
    "-\tYou are welcome to collaborate in small groups, but please ensure that you acknowledge each member's contributions and engage in discussions to collectively assess the outcomes.\n"
   ]
  },
  {
   "cell_type": "markdown",
   "metadata": {},
   "source": [
    "## Configuring and starting the server\n",
    "\n",
    "For this study case, we are using a small node server to provide that data over the network. Create a working directory for this assignment and copy everything you find in [`study_cases//node/`](node/) into this directory. You need to download the datafile `assemblix:/data/datasets/Programming/Person1.csv` and put that in this directory as well.\n",
    "\n",
    "The server is written in javascript, using node as execution environment. You should check whether you have node installed by typing something like `node -v`. If you don't have node, follow the instructions you can find [on nodejs.org](https://nodejs.org/en/download). \n",
    "\n",
    "Go into the directory you've created above and type `npm install` to install the dependencies (`npm` is a package manager like `pip`; this one looks at a file `package.json` to see which dependencies need to be installed). After this is done, you can run the server by typing `node server.js`. This starts the server at port 8080 (you can change that by setting another port at line 5). Hit `ctrl-C` to quit the server.\n",
    "\n",
    "```shell\n",
    "baba@grisea node % ls  \n",
    "Person1.csv\tpackage.json\tserver.js\n",
    "baba@grisea node % npm install \n",
    "\n",
    "added 1 package, and audited 2 packages in 974ms\n",
    "\n",
    "found 0 vulnerabilities\n",
    "baba@grisea node % node server.js \n",
    "WebSocket server running on port 8080\n",
    "```\n",
    "\n",
    "At the moment the server only serves data for one person (`Person1.csv`; the one you downloaded from `assemblix`)."
   ]
  },
  {
   "cell_type": "markdown",
   "metadata": {},
   "source": [
    "## Documentation\n",
    "\n",
    "Document all decisions made during the development process, providing transparency and aiding reproducibility. Deliver your solution in a repository with a readme file."
   ]
  },
  {
   "cell_type": "markdown",
   "metadata": {},
   "source": [
    "## Part 1 (week 3): a working client for streaming data\n",
    "\n",
    "Develop a client app that fetches the data in streaming modus and updates a visual simultaneously. You can use the visualization library of your own choice. Several libraries like matplotlib (e.g. [`FuncAnimation`](https://matplotlib.org/stable/api/_as_gen/matplotlib.animation.FuncAnimation.html)) and bokeh (see e.g. [this example](https://coderzcolumn.com/tutorials/data-science/bokeh-work-with-realtime-streaming-data) or [this example](https://algorithmictrading.substack.com/p/visualizing-live-price-updates-with)) provide streaming data solutions.\n",
    "\n",
    "![Example of a possible outcome](images/ecg-plot.png)\n",
    "\n",
    "**Challenge:** The neurokit library can generate 12 lead ECG data. Can you generate 12 lead data and create your own simulator?\n"
   ]
  },
  {
   "cell_type": "markdown",
   "metadata": {},
   "source": [
    "## Part 2 (week 4): Extract features and perform analysis\n",
    "\n",
    "This week the challenge is to identify the PQRST complex in the signal (see also the presentation about ECG on blackboard)\n",
    "You can take several approaches. \n",
    "\n",
    "-\tUse the neurokit documentation and apply this to the data from the simulator (the real patient data, not simulated data). \n",
    "-\tUse one of the algorithms for change point detection and code the solution (see presentation on blackboard)\n",
    "-\tAsk the Dave for an algorithm.\n",
    "\n",
    "Display the results in your streaming visualization. \n",
    "\n",
    "**Challenge:** The neurokit library can generate 12 lead ECG data. Can you identify relations between the leads? \n"
   ]
  },
  {
   "cell_type": "markdown",
   "metadata": {},
   "source": [
    "## Features of ECG\n",
    "\n",
    "PQRST refers to the different waves and intervals observed in an electrocardiogram (ECG or EKG), which is a graphical representation of the electrical activity of the heart over time. Each letter in **PQRST** corresponds to a specific phase or component of the ECG waveform:\n",
    "\n",
    "**P Wave:** The P wave represents atrial depolarization, which is the electrical activity that causes the atria (the upper chambers of the heart) to contract and pump blood into the ventricles. The P wave is the first deflection seen on the ECG and is typically small.\n",
    "\n",
    "**QRS Complex:** The QRS complex represents ventricular depolarization, which is the electrical activity associated with the contraction of the ventricles (the lower chambers of the heart). The QRS complex is usually a larger and more prominent waveform on the ECG.\n",
    "\n",
    "**T Wave:** The T wave represents ventricular repolarization, which is the recovery phase of the ventricles as they prepare for the next contraction. The T wave follows the QRS complex and is generally a smaller waveform.\n",
    "\n",
    "See also the [Cardiac Conduction System and Understanding ECG Animation](https://www.youtube.com/watch?v=RYZ4daFwMa8).\n",
    "\n",
    "The PQRST sequence provides important information about the timing and coordination of the heart's electrical activity. Abnormalities in the shape, duration, or timing of these waves and complexes can indicate various cardiac conditions, such as arrhythmias, ischemia, or other heart-related issues.\n",
    "\n",
    "In addition to PQRST, there are other components and intervals in an ECG, such as the PR interval (measuring the time from the beginning of the P wave to the beginning of the QRS complex) and the QT interval (measuring the time from the beginning of the QRS complex to the end of the T wave). These components collectively provide a detailed picture of the heart's electrical behavior and aid in the diagnosis of various cardiac conditions.\n",
    "\n",
    "Watch [the animation about Cardiac Arrhythmias](https://www.youtube.com/watch?v=6LrptveKYus).\n",
    "\n",
    "## Multivariate: 12-lead ECG\n",
    "\n",
    "A 12-lead ECG paints a complete picture of the heart’s electrical activity by recording information through 12 different perspectives with electrodes attached to the body. These 12 views are collected by placing electrodes or small, sticky patches on the chest (precordial), wrists, and ankles. These electrodes are connected to a machine that registers the heart’s electrical activity.\n",
    "\n",
    "See [this site](https://www.cablesandsensors.eu/pages/12-lead-ecg-placement-guide-with-illustrations) for more information.\n",
    "\n"
   ]
  }
 ],
 "metadata": {
  "language_info": {
   "name": "python"
  }
 },
 "nbformat": 4,
 "nbformat_minor": 2
}
